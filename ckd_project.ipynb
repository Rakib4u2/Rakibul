{
  "nbformat": 4,
  "nbformat_minor": 0,
  "metadata": {
    "colab": {
      "provenance": [],
      "toc_visible": true,
      "authorship_tag": "ABX9TyOW/aALQknud9AUec2E8OAm",
      "include_colab_link": true
    },
    "kernelspec": {
      "name": "python3",
      "display_name": "Python 3"
    },
    "language_info": {
      "name": "python"
    }
  },
  "cells": [
    {
      "cell_type": "markdown",
      "metadata": {
        "id": "view-in-github",
        "colab_type": "text"
      },
      "source": [
        "<a href=\"https://colab.research.google.com/github/Rakib4u2/Rakibul/blob/main/ckd_project.ipynb\" target=\"_parent\"><img src=\"https://colab.research.google.com/assets/colab-badge.svg\" alt=\"Open In Colab\"/></a>"
      ]
    },
    {
      "cell_type": "code",
      "execution_count": 9,
      "metadata": {
        "colab": {
          "base_uri": "https://localhost:8080/"
        },
        "id": "90Xrmd8e95u2",
        "outputId": "837c9c66-1821-4b6a-b583-7676da14bc8b"
      },
      "outputs": [
        {
          "output_type": "stream",
          "name": "stdout",
          "text": [
            "Data processing complete! Ready for modeling.\n"
          ]
        },
        {
          "output_type": "stream",
          "name": "stderr",
          "text": [
            "<ipython-input-9-c4897df860a2>:17: FutureWarning: A value is trying to be set on a copy of a DataFrame or Series through chained assignment using an inplace method.\n",
            "The behavior will change in pandas 3.0. This inplace method will never work because the intermediate object on which we are setting values always behaves as a copy.\n",
            "\n",
            "For example, when doing 'df[col].method(value, inplace=True)', try using 'df.method({col: value}, inplace=True)' or df[col] = df[col].method(value) instead, to perform the operation inplace on the original object.\n",
            "\n",
            "\n",
            "  df[col].fillna(df[col].median(), inplace=True)\n",
            "<ipython-input-9-c4897df860a2>:15: FutureWarning: A value is trying to be set on a copy of a DataFrame or Series through chained assignment using an inplace method.\n",
            "The behavior will change in pandas 3.0. This inplace method will never work because the intermediate object on which we are setting values always behaves as a copy.\n",
            "\n",
            "For example, when doing 'df[col].method(value, inplace=True)', try using 'df.method({col: value}, inplace=True)' or df[col] = df[col].method(value) instead, to perform the operation inplace on the original object.\n",
            "\n",
            "\n",
            "  df[col].fillna(df[col].mode()[0], inplace=True)\n"
          ]
        }
      ],
      "source": [
        "import pandas as pd\n",
        "import cv2\n",
        "from sklearn.model_selection import train_test_split\n",
        "from sklearn.preprocessing import LabelEncoder, StandardScaler\n",
        "from sklearn.feature_selection import SelectKBest, chi2\n",
        "from sklearn.ensemble import RandomForestClassifier\n",
        "\n",
        "# Load the dataset\n",
        "file_path = \"/datasets1.csv\"\n",
        "df = pd.read_csv('/datasets1.csv')\n",
        "\n",
        "# Handle missing values (fill with median for numeric, mode for categorical)\n",
        "for col in df.columns:\n",
        "    if df[col].dtype == 'object':\n",
        "        df[col].fillna(df[col].mode()[0], inplace=True)\n",
        "    else:\n",
        "        df[col].fillna(df[col].median(), inplace=True)\n",
        "\n",
        "# Encode categorical features\n",
        "label_encoders = {}\n",
        "for col in df.select_dtypes(include='object').columns:\n",
        "    le = LabelEncoder()\n",
        "    df[col] = le.fit_transform(df[col])\n",
        "    label_encoders[col] = le\n",
        "\n",
        "# Split features and target\n",
        "y = df['classification']\n",
        "X = df.drop(['classification', 'id'], axis=1)\n",
        "\n",
        "# Standardize numerical features\n",
        "scaler = StandardScaler()\n",
        "X_scaled = scaler.fit_transform(X)\n",
        "\n",
        "# Split into training and testing sets\n",
        "X_train, X_test, y_train, y_test = train_test_split(X_scaled, y, test_size=0.2, random_state=42)\n",
        "\n",
        "print(\"Data processing complete! Ready for modeling.\")\n"
      ]
    },
    {
      "cell_type": "code",
      "source": [
        "print(df[df.isnull().any(axis=1)])"
      ],
      "metadata": {
        "colab": {
          "base_uri": "https://localhost:8080/"
        },
        "id": "XqaLkcEm4dR9",
        "outputId": "fc75b49d-b09b-4978-cf52-928487055f80"
      },
      "execution_count": 10,
      "outputs": [
        {
          "output_type": "stream",
          "name": "stdout",
          "text": [
            "Empty DataFrame\n",
            "Columns: [id, age, bp, sg, al, su, rbc, pc, pcc, ba, bgr, bu, sc, sod, pot, hemo, pcv, wc, rc, htn, dm, cad, appet, pe, ane, classification]\n",
            "Index: []\n",
            "\n",
            "[0 rows x 26 columns]\n"
          ]
        }
      ]
    },
    {
      "cell_type": "code",
      "source": [
        "print(df.isnull().sum())"
      ],
      "metadata": {
        "colab": {
          "base_uri": "https://localhost:8080/"
        },
        "id": "_5ROHiC15dl6",
        "outputId": "7dd606ed-745b-412b-e479-87eb769ad79c"
      },
      "execution_count": 11,
      "outputs": [
        {
          "output_type": "stream",
          "name": "stdout",
          "text": [
            "id                0\n",
            "age               0\n",
            "bp                0\n",
            "sg                0\n",
            "al                0\n",
            "su                0\n",
            "rbc               0\n",
            "pc                0\n",
            "pcc               0\n",
            "ba                0\n",
            "bgr               0\n",
            "bu                0\n",
            "sc                0\n",
            "sod               0\n",
            "pot               0\n",
            "hemo              0\n",
            "pcv               0\n",
            "wc                0\n",
            "rc                0\n",
            "htn               0\n",
            "dm                0\n",
            "cad               0\n",
            "appet             0\n",
            "pe                0\n",
            "ane               0\n",
            "classification    0\n",
            "dtype: int64\n"
          ]
        }
      ]
    },
    {
      "cell_type": "code",
      "source": [
        "print(df.head(5))"
      ],
      "metadata": {
        "colab": {
          "base_uri": "https://localhost:8080/"
        },
        "id": "FXK0TSxHFxkx",
        "outputId": "b2033ddd-1c19-4cdd-8db5-f9e244179044"
      },
      "execution_count": 12,
      "outputs": [
        {
          "output_type": "stream",
          "name": "stdout",
          "text": [
            "   id   age    bp     sg   al   su  rbc  pc  pcc  ba  ...  pcv  wc  rc  htn  \\\n",
            "0   0  48.0  80.0  1.020  1.0  0.0    1   1    0   0  ...   32  72  31    1   \n",
            "1   1   7.0  50.0  1.020  4.0  0.0    1   1    0   0  ...   26  56  31    0   \n",
            "2   2  62.0  80.0  1.010  2.0  3.0    1   1    0   0  ...   19  70  31    0   \n",
            "3   3  48.0  70.0  1.005  4.0  0.0    1   0    1   0  ...   20  62  18    1   \n",
            "4   4  51.0  80.0  1.010  2.0  0.0    1   1    0   0  ...   23  68  25    0   \n",
            "\n",
            "   dm  cad  appet  pe  ane  classification  \n",
            "0   4    1      0   0    0               0  \n",
            "1   3    1      0   0    0               0  \n",
            "2   4    1      1   0    1               0  \n",
            "3   3    1      1   1    1               0  \n",
            "4   3    1      0   0    0               0  \n",
            "\n",
            "[5 rows x 26 columns]\n"
          ]
        }
      ]
    },
    {
      "cell_type": "code",
      "source": [
        "df.dropna(axis=0,inplace=True)"
      ],
      "metadata": {
        "id": "eueudqun7llX"
      },
      "execution_count": 16,
      "outputs": []
    },
    {
      "cell_type": "code",
      "source": [
        "print(df.head(5))"
      ],
      "metadata": {
        "colab": {
          "base_uri": "https://localhost:8080/"
        },
        "id": "-uCCEJLv7xhA",
        "outputId": "5ff8303e-2808-4f88-f28a-4fac536a0cfd"
      },
      "execution_count": 17,
      "outputs": [
        {
          "output_type": "stream",
          "name": "stdout",
          "text": [
            "   id   age    bp     sg   al   su  rbc  pc  pcc  ba  ...  pcv  wc  rc  htn  \\\n",
            "0   0  48.0  80.0  1.020  1.0  0.0    1   1    0   0  ...   32  72  31    1   \n",
            "1   1   7.0  50.0  1.020  4.0  0.0    1   1    0   0  ...   26  56  31    0   \n",
            "2   2  62.0  80.0  1.010  2.0  3.0    1   1    0   0  ...   19  70  31    0   \n",
            "3   3  48.0  70.0  1.005  4.0  0.0    1   0    1   0  ...   20  62  18    1   \n",
            "4   4  51.0  80.0  1.010  2.0  0.0    1   1    0   0  ...   23  68  25    0   \n",
            "\n",
            "   dm  cad  appet  pe  ane  classification  \n",
            "0   4    1      0   0    0               0  \n",
            "1   3    1      0   0    0               0  \n",
            "2   4    1      1   0    1               0  \n",
            "3   3    1      1   1    1               0  \n",
            "4   3    1      0   0    0               0  \n",
            "\n",
            "[5 rows x 26 columns]\n"
          ]
        }
      ]
    },
    {
      "cell_type": "code",
      "source": [
        "df.drop('classification',axis=1,inplace=True)"
      ],
      "metadata": {
        "id": "ONT_0tz76tIa"
      },
      "execution_count": 6,
      "outputs": []
    },
    {
      "cell_type": "code",
      "source": [
        "print(df.head(5))"
      ],
      "metadata": {
        "colab": {
          "base_uri": "https://localhost:8080/"
        },
        "id": "XlFENslG7C2O",
        "outputId": "89fb6be6-97f4-44ba-8abe-eefa4a4a2d13"
      },
      "execution_count": 7,
      "outputs": [
        {
          "output_type": "stream",
          "name": "stdout",
          "text": [
            "   id   age    bp     sg   al   su  rbc  pc  pcc  ba  ...  hemo  pcv  wc  rc  \\\n",
            "0   0  48.0  80.0  1.020  1.0  0.0    1   1    0   0  ...  15.4   32  72  31   \n",
            "1   1   7.0  50.0  1.020  4.0  0.0    1   1    0   0  ...  11.3   26  56  31   \n",
            "2   2  62.0  80.0  1.010  2.0  3.0    1   1    0   0  ...   9.6   19  70  31   \n",
            "3   3  48.0  70.0  1.005  4.0  0.0    1   0    1   0  ...  11.2   20  62  18   \n",
            "4   4  51.0  80.0  1.010  2.0  0.0    1   1    0   0  ...  11.6   23  68  25   \n",
            "\n",
            "   htn  dm  cad  appet  pe  ane  \n",
            "0    1   4    1      0   0    0  \n",
            "1    0   3    1      0   0    0  \n",
            "2    0   4    1      1   0    1  \n",
            "3    1   3    1      1   1    1  \n",
            "4    0   3    1      0   0    0  \n",
            "\n",
            "[5 rows x 25 columns]\n"
          ]
        }
      ]
    },
    {
      "cell_type": "code",
      "source": [
        "print(df.info())"
      ],
      "metadata": {
        "colab": {
          "base_uri": "https://localhost:8080/"
        },
        "id": "bBv8R-PnGQFI",
        "outputId": "c399b798-4aee-4154-9c6c-1707e673c34f"
      },
      "execution_count": null,
      "outputs": [
        {
          "output_type": "stream",
          "name": "stdout",
          "text": [
            "<class 'pandas.core.frame.DataFrame'>\n",
            "RangeIndex: 400 entries, 0 to 399\n",
            "Data columns (total 26 columns):\n",
            " #   Column          Non-Null Count  Dtype  \n",
            "---  ------          --------------  -----  \n",
            " 0   id              400 non-null    int64  \n",
            " 1   age             400 non-null    float64\n",
            " 2   bp              400 non-null    float64\n",
            " 3   sg              400 non-null    float64\n",
            " 4   al              400 non-null    float64\n",
            " 5   su              400 non-null    float64\n",
            " 6   rbc             400 non-null    int64  \n",
            " 7   pc              400 non-null    int64  \n",
            " 8   pcc             400 non-null    int64  \n",
            " 9   ba              400 non-null    int64  \n",
            " 10  bgr             400 non-null    float64\n",
            " 11  bu              400 non-null    float64\n",
            " 12  sc              400 non-null    float64\n",
            " 13  sod             400 non-null    float64\n",
            " 14  pot             400 non-null    float64\n",
            " 15  hemo            400 non-null    float64\n",
            " 16  pcv             400 non-null    int64  \n",
            " 17  wc              400 non-null    int64  \n",
            " 18  rc              400 non-null    int64  \n",
            " 19  htn             400 non-null    int64  \n",
            " 20  dm              400 non-null    int64  \n",
            " 21  cad             400 non-null    int64  \n",
            " 22  appet           400 non-null    int64  \n",
            " 23  pe              400 non-null    int64  \n",
            " 24  ane             400 non-null    int64  \n",
            " 25  classification  400 non-null    int64  \n",
            "dtypes: float64(11), int64(15)\n",
            "memory usage: 81.4 KB\n",
            "None\n",
            "               id         age          bp          sg         al          su  \\\n",
            "count  400.000000  400.000000  400.000000  400.000000  400.00000  400.000000   \n",
            "mean   199.500000   51.562500   76.575000    1.017712    0.90000    0.395000   \n",
            "std    115.614301   16.982996   13.489785    0.005434    1.31313    1.040038   \n",
            "min      0.000000    2.000000   50.000000    1.005000    0.00000    0.000000   \n",
            "25%     99.750000   42.000000   70.000000    1.015000    0.00000    0.000000   \n",
            "50%    199.500000   55.000000   80.000000    1.020000    0.00000    0.000000   \n",
            "75%    299.250000   64.000000   80.000000    1.020000    2.00000    0.000000   \n",
            "max    399.000000   90.000000  180.000000    1.025000    5.00000    5.000000   \n",
            "\n",
            "              rbc          pc         pcc          ba  ...         pcv  \\\n",
            "count  400.000000  400.000000  400.000000  400.000000  ...  400.000000   \n",
            "mean     0.882500    0.810000    0.105000    0.055000  ...   27.227500   \n",
            "std      0.322418    0.392792    0.306937    0.228266  ...    8.304707   \n",
            "min      0.000000    0.000000    0.000000    0.000000  ...    0.000000   \n",
            "25%      1.000000    1.000000    0.000000    0.000000  ...   22.000000   \n",
            "50%      1.000000    1.000000    0.000000    0.000000  ...   29.000000   \n",
            "75%      1.000000    1.000000    0.000000    0.000000  ...   32.000000   \n",
            "max      1.000000    1.000000    1.000000    1.000000  ...   43.000000   \n",
            "\n",
            "               wc          rc         htn          dm         cad       appet  \\\n",
            "count  400.000000  400.000000  400.000000  400.000000  400.000000  400.000000   \n",
            "mean    63.905000   27.580000    0.367500    3.300000    1.080000    0.205000   \n",
            "std     27.643378    8.710527    0.482728    0.579517    0.289499    0.404207   \n",
            "min      0.000000    0.000000    0.000000    0.000000    0.000000    0.000000   \n",
            "25%     49.000000   24.000000    0.000000    3.000000    1.000000    0.000000   \n",
            "50%     71.000000   31.000000    0.000000    3.000000    1.000000    0.000000   \n",
            "75%     90.000000   31.000000    1.000000    4.000000    1.000000    0.000000   \n",
            "max     91.000000   45.000000    1.000000    4.000000    2.000000    1.000000   \n",
            "\n",
            "               pe         ane  classification  \n",
            "count  400.000000  400.000000      400.000000  \n",
            "mean     0.190000    0.150000        0.755000  \n",
            "std      0.392792    0.357519        0.968152  \n",
            "min      0.000000    0.000000        0.000000  \n",
            "25%      0.000000    0.000000        0.000000  \n",
            "50%      0.000000    0.000000        0.000000  \n",
            "75%      0.000000    0.000000        2.000000  \n",
            "max      1.000000    1.000000        2.000000  \n",
            "\n",
            "[8 rows x 26 columns]\n"
          ]
        }
      ]
    },
    {
      "cell_type": "code",
      "source": [
        "print(df.describe())"
      ],
      "metadata": {
        "colab": {
          "base_uri": "https://localhost:8080/"
        },
        "id": "0_bu7dTQLeCq",
        "outputId": "1b243413-04f5-4c24-bef8-79194db27506"
      },
      "execution_count": null,
      "outputs": [
        {
          "output_type": "stream",
          "name": "stdout",
          "text": [
            "               id         age          bp          sg         al          su  \\\n",
            "count  400.000000  400.000000  400.000000  400.000000  400.00000  400.000000   \n",
            "mean   199.500000   51.562500   76.575000    1.017712    0.90000    0.395000   \n",
            "std    115.614301   16.982996   13.489785    0.005434    1.31313    1.040038   \n",
            "min      0.000000    2.000000   50.000000    1.005000    0.00000    0.000000   \n",
            "25%     99.750000   42.000000   70.000000    1.015000    0.00000    0.000000   \n",
            "50%    199.500000   55.000000   80.000000    1.020000    0.00000    0.000000   \n",
            "75%    299.250000   64.000000   80.000000    1.020000    2.00000    0.000000   \n",
            "max    399.000000   90.000000  180.000000    1.025000    5.00000    5.000000   \n",
            "\n",
            "              rbc          pc         pcc          ba  ...         pcv  \\\n",
            "count  400.000000  400.000000  400.000000  400.000000  ...  400.000000   \n",
            "mean     0.882500    0.810000    0.105000    0.055000  ...   27.227500   \n",
            "std      0.322418    0.392792    0.306937    0.228266  ...    8.304707   \n",
            "min      0.000000    0.000000    0.000000    0.000000  ...    0.000000   \n",
            "25%      1.000000    1.000000    0.000000    0.000000  ...   22.000000   \n",
            "50%      1.000000    1.000000    0.000000    0.000000  ...   29.000000   \n",
            "75%      1.000000    1.000000    0.000000    0.000000  ...   32.000000   \n",
            "max      1.000000    1.000000    1.000000    1.000000  ...   43.000000   \n",
            "\n",
            "               wc          rc         htn          dm         cad       appet  \\\n",
            "count  400.000000  400.000000  400.000000  400.000000  400.000000  400.000000   \n",
            "mean    63.905000   27.580000    0.367500    3.300000    1.080000    0.205000   \n",
            "std     27.643378    8.710527    0.482728    0.579517    0.289499    0.404207   \n",
            "min      0.000000    0.000000    0.000000    0.000000    0.000000    0.000000   \n",
            "25%     49.000000   24.000000    0.000000    3.000000    1.000000    0.000000   \n",
            "50%     71.000000   31.000000    0.000000    3.000000    1.000000    0.000000   \n",
            "75%     90.000000   31.000000    1.000000    4.000000    1.000000    0.000000   \n",
            "max     91.000000   45.000000    1.000000    4.000000    2.000000    1.000000   \n",
            "\n",
            "               pe         ane  classification  \n",
            "count  400.000000  400.000000      400.000000  \n",
            "mean     0.190000    0.150000        0.755000  \n",
            "std      0.392792    0.357519        0.968152  \n",
            "min      0.000000    0.000000        0.000000  \n",
            "25%      0.000000    0.000000        0.000000  \n",
            "50%      0.000000    0.000000        0.000000  \n",
            "75%      0.000000    0.000000        2.000000  \n",
            "max      1.000000    1.000000        2.000000  \n",
            "\n",
            "[8 rows x 26 columns]\n"
          ]
        }
      ]
    },
    {
      "cell_type": "code",
      "source": [
        "import pandas as pd\n",
        "import numpy as np\n",
        "from sklearn.feature_selection import SelectKBest, chi2\n",
        "from sklearn.ensemble import RandomForestClassifier\n",
        "from sklearn.preprocessing import StandardScaler\n",
        "from sklearn.model_selection import train_test_split\n",
        "\n",
        "# Load dataset (Modify the filename/path as needed)\n",
        "df = pd.read_csv(\"data.csv\")  # Ensure this file exists\n",
        "\n",
        "# Define features (X) and target variable (y)\n",
        "X = df.drop(columns=[\"target_column\"])  # Replace with your actual target column name\n",
        "y = df[\"target_column\"]  # Replace with actual target column\n",
        "\n",
        "# Scale the features\n",
        "scaler = StandardScaler()\n",
        "X_scaled = scaler.fit_transform(X)  # Ensure X is a DataFrame or NumPy array\n",
        "\n",
        "# Select top features with chi-square test\n",
        "selector = SelectKBest(score_func=chi2, k=10)\n",
        "X_selected = selector.fit_transform(X_scaled, y)\n",
        "\n",
        "# Get feature scores\n",
        "feature_scores = pd.DataFrame({'Feature': X.columns, 'Score': selector.scores_})\n",
        "feature_scores = feature_scores.sort_values(by='Score', ascending=False)\n",
        "\n",
        "# Feature importance with Random Forest\n",
        "model = RandomForestClassifier()\n",
        "model.fit(X_scaled, y)\n",
        "\n",
        "feature_importance = pd.DataFrame({'Feature': X.columns, 'Importance': model.feature_importances_})\n",
        "feature_importance = feature_importance.sort_values(by='Importance', ascending=False)\n",
        "\n",
        "print(\"Top features by chi-square test:\")\n",
        "print(feature_scores.head(10))\n",
        "\n",
        "print(\"\\nTop features by Random Forest importance:\")\n",
        "print(feature_importance.head(10))\n"
      ],
      "metadata": {
        "colab": {
          "base_uri": "https://localhost:8080/",
          "height": 373
        },
        "id": "rVkgyajz6IRl",
        "outputId": "e9236a50-0cb8-4f2f-cde2-364c0223f9c9"
      },
      "execution_count": 24,
      "outputs": [
        {
          "output_type": "error",
          "ename": "FileNotFoundError",
          "evalue": "[Errno 2] No such file or directory: 'data.csv'",
          "traceback": [
            "\u001b[0;31m---------------------------------------------------------------------------\u001b[0m",
            "\u001b[0;31mFileNotFoundError\u001b[0m                         Traceback (most recent call last)",
            "\u001b[0;32m<ipython-input-24-6a3b7f93c448>\u001b[0m in \u001b[0;36m<cell line: 0>\u001b[0;34m()\u001b[0m\n\u001b[1;32m      7\u001b[0m \u001b[0;34m\u001b[0m\u001b[0m\n\u001b[1;32m      8\u001b[0m \u001b[0;31m# Load dataset (Modify the filename/path as needed)\u001b[0m\u001b[0;34m\u001b[0m\u001b[0;34m\u001b[0m\u001b[0m\n\u001b[0;32m----> 9\u001b[0;31m \u001b[0mdf\u001b[0m \u001b[0;34m=\u001b[0m \u001b[0mpd\u001b[0m\u001b[0;34m.\u001b[0m\u001b[0mread_csv\u001b[0m\u001b[0;34m(\u001b[0m\u001b[0;34m\"data.csv\"\u001b[0m\u001b[0;34m)\u001b[0m  \u001b[0;31m# Ensure this file exists\u001b[0m\u001b[0;34m\u001b[0m\u001b[0;34m\u001b[0m\u001b[0m\n\u001b[0m\u001b[1;32m     10\u001b[0m \u001b[0;34m\u001b[0m\u001b[0m\n\u001b[1;32m     11\u001b[0m \u001b[0;31m# Define features (X) and target variable (y)\u001b[0m\u001b[0;34m\u001b[0m\u001b[0;34m\u001b[0m\u001b[0m\n",
            "\u001b[0;32m/usr/local/lib/python3.11/dist-packages/pandas/io/parsers/readers.py\u001b[0m in \u001b[0;36mread_csv\u001b[0;34m(filepath_or_buffer, sep, delimiter, header, names, index_col, usecols, dtype, engine, converters, true_values, false_values, skipinitialspace, skiprows, skipfooter, nrows, na_values, keep_default_na, na_filter, verbose, skip_blank_lines, parse_dates, infer_datetime_format, keep_date_col, date_parser, date_format, dayfirst, cache_dates, iterator, chunksize, compression, thousands, decimal, lineterminator, quotechar, quoting, doublequote, escapechar, comment, encoding, encoding_errors, dialect, on_bad_lines, delim_whitespace, low_memory, memory_map, float_precision, storage_options, dtype_backend)\u001b[0m\n\u001b[1;32m   1024\u001b[0m     \u001b[0mkwds\u001b[0m\u001b[0;34m.\u001b[0m\u001b[0mupdate\u001b[0m\u001b[0;34m(\u001b[0m\u001b[0mkwds_defaults\u001b[0m\u001b[0;34m)\u001b[0m\u001b[0;34m\u001b[0m\u001b[0;34m\u001b[0m\u001b[0m\n\u001b[1;32m   1025\u001b[0m \u001b[0;34m\u001b[0m\u001b[0m\n\u001b[0;32m-> 1026\u001b[0;31m     \u001b[0;32mreturn\u001b[0m \u001b[0m_read\u001b[0m\u001b[0;34m(\u001b[0m\u001b[0mfilepath_or_buffer\u001b[0m\u001b[0;34m,\u001b[0m \u001b[0mkwds\u001b[0m\u001b[0;34m)\u001b[0m\u001b[0;34m\u001b[0m\u001b[0;34m\u001b[0m\u001b[0m\n\u001b[0m\u001b[1;32m   1027\u001b[0m \u001b[0;34m\u001b[0m\u001b[0m\n\u001b[1;32m   1028\u001b[0m \u001b[0;34m\u001b[0m\u001b[0m\n",
            "\u001b[0;32m/usr/local/lib/python3.11/dist-packages/pandas/io/parsers/readers.py\u001b[0m in \u001b[0;36m_read\u001b[0;34m(filepath_or_buffer, kwds)\u001b[0m\n\u001b[1;32m    618\u001b[0m \u001b[0;34m\u001b[0m\u001b[0m\n\u001b[1;32m    619\u001b[0m     \u001b[0;31m# Create the parser.\u001b[0m\u001b[0;34m\u001b[0m\u001b[0;34m\u001b[0m\u001b[0m\n\u001b[0;32m--> 620\u001b[0;31m     \u001b[0mparser\u001b[0m \u001b[0;34m=\u001b[0m \u001b[0mTextFileReader\u001b[0m\u001b[0;34m(\u001b[0m\u001b[0mfilepath_or_buffer\u001b[0m\u001b[0;34m,\u001b[0m \u001b[0;34m**\u001b[0m\u001b[0mkwds\u001b[0m\u001b[0;34m)\u001b[0m\u001b[0;34m\u001b[0m\u001b[0;34m\u001b[0m\u001b[0m\n\u001b[0m\u001b[1;32m    621\u001b[0m \u001b[0;34m\u001b[0m\u001b[0m\n\u001b[1;32m    622\u001b[0m     \u001b[0;32mif\u001b[0m \u001b[0mchunksize\u001b[0m \u001b[0;32mor\u001b[0m \u001b[0miterator\u001b[0m\u001b[0;34m:\u001b[0m\u001b[0;34m\u001b[0m\u001b[0;34m\u001b[0m\u001b[0m\n",
            "\u001b[0;32m/usr/local/lib/python3.11/dist-packages/pandas/io/parsers/readers.py\u001b[0m in \u001b[0;36m__init__\u001b[0;34m(self, f, engine, **kwds)\u001b[0m\n\u001b[1;32m   1618\u001b[0m \u001b[0;34m\u001b[0m\u001b[0m\n\u001b[1;32m   1619\u001b[0m         \u001b[0mself\u001b[0m\u001b[0;34m.\u001b[0m\u001b[0mhandles\u001b[0m\u001b[0;34m:\u001b[0m \u001b[0mIOHandles\u001b[0m \u001b[0;34m|\u001b[0m \u001b[0;32mNone\u001b[0m \u001b[0;34m=\u001b[0m \u001b[0;32mNone\u001b[0m\u001b[0;34m\u001b[0m\u001b[0;34m\u001b[0m\u001b[0m\n\u001b[0;32m-> 1620\u001b[0;31m         \u001b[0mself\u001b[0m\u001b[0;34m.\u001b[0m\u001b[0m_engine\u001b[0m \u001b[0;34m=\u001b[0m \u001b[0mself\u001b[0m\u001b[0;34m.\u001b[0m\u001b[0m_make_engine\u001b[0m\u001b[0;34m(\u001b[0m\u001b[0mf\u001b[0m\u001b[0;34m,\u001b[0m \u001b[0mself\u001b[0m\u001b[0;34m.\u001b[0m\u001b[0mengine\u001b[0m\u001b[0;34m)\u001b[0m\u001b[0;34m\u001b[0m\u001b[0;34m\u001b[0m\u001b[0m\n\u001b[0m\u001b[1;32m   1621\u001b[0m \u001b[0;34m\u001b[0m\u001b[0m\n\u001b[1;32m   1622\u001b[0m     \u001b[0;32mdef\u001b[0m \u001b[0mclose\u001b[0m\u001b[0;34m(\u001b[0m\u001b[0mself\u001b[0m\u001b[0;34m)\u001b[0m \u001b[0;34m->\u001b[0m \u001b[0;32mNone\u001b[0m\u001b[0;34m:\u001b[0m\u001b[0;34m\u001b[0m\u001b[0;34m\u001b[0m\u001b[0m\n",
            "\u001b[0;32m/usr/local/lib/python3.11/dist-packages/pandas/io/parsers/readers.py\u001b[0m in \u001b[0;36m_make_engine\u001b[0;34m(self, f, engine)\u001b[0m\n\u001b[1;32m   1878\u001b[0m                 \u001b[0;32mif\u001b[0m \u001b[0;34m\"b\"\u001b[0m \u001b[0;32mnot\u001b[0m \u001b[0;32min\u001b[0m \u001b[0mmode\u001b[0m\u001b[0;34m:\u001b[0m\u001b[0;34m\u001b[0m\u001b[0;34m\u001b[0m\u001b[0m\n\u001b[1;32m   1879\u001b[0m                     \u001b[0mmode\u001b[0m \u001b[0;34m+=\u001b[0m \u001b[0;34m\"b\"\u001b[0m\u001b[0;34m\u001b[0m\u001b[0;34m\u001b[0m\u001b[0m\n\u001b[0;32m-> 1880\u001b[0;31m             self.handles = get_handle(\n\u001b[0m\u001b[1;32m   1881\u001b[0m                 \u001b[0mf\u001b[0m\u001b[0;34m,\u001b[0m\u001b[0;34m\u001b[0m\u001b[0;34m\u001b[0m\u001b[0m\n\u001b[1;32m   1882\u001b[0m                 \u001b[0mmode\u001b[0m\u001b[0;34m,\u001b[0m\u001b[0;34m\u001b[0m\u001b[0;34m\u001b[0m\u001b[0m\n",
            "\u001b[0;32m/usr/local/lib/python3.11/dist-packages/pandas/io/common.py\u001b[0m in \u001b[0;36mget_handle\u001b[0;34m(path_or_buf, mode, encoding, compression, memory_map, is_text, errors, storage_options)\u001b[0m\n\u001b[1;32m    871\u001b[0m         \u001b[0;32mif\u001b[0m \u001b[0mioargs\u001b[0m\u001b[0;34m.\u001b[0m\u001b[0mencoding\u001b[0m \u001b[0;32mand\u001b[0m \u001b[0;34m\"b\"\u001b[0m \u001b[0;32mnot\u001b[0m \u001b[0;32min\u001b[0m \u001b[0mioargs\u001b[0m\u001b[0;34m.\u001b[0m\u001b[0mmode\u001b[0m\u001b[0;34m:\u001b[0m\u001b[0;34m\u001b[0m\u001b[0;34m\u001b[0m\u001b[0m\n\u001b[1;32m    872\u001b[0m             \u001b[0;31m# Encoding\u001b[0m\u001b[0;34m\u001b[0m\u001b[0;34m\u001b[0m\u001b[0m\n\u001b[0;32m--> 873\u001b[0;31m             handle = open(\n\u001b[0m\u001b[1;32m    874\u001b[0m                 \u001b[0mhandle\u001b[0m\u001b[0;34m,\u001b[0m\u001b[0;34m\u001b[0m\u001b[0;34m\u001b[0m\u001b[0m\n\u001b[1;32m    875\u001b[0m                 \u001b[0mioargs\u001b[0m\u001b[0;34m.\u001b[0m\u001b[0mmode\u001b[0m\u001b[0;34m,\u001b[0m\u001b[0;34m\u001b[0m\u001b[0;34m\u001b[0m\u001b[0m\n",
            "\u001b[0;31mFileNotFoundError\u001b[0m: [Errno 2] No such file or directory: 'data.csv'"
          ]
        }
      ]
    },
    {
      "cell_type": "markdown",
      "source": [
        "# New Section"
      ],
      "metadata": {
        "id": "bAc78VrR9nzr"
      }
    }
  ]
}